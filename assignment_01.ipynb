{
 "cells": [
  {
   "cell_type": "code",
   "execution_count": 7,
   "id": "38080a98-bfd3-4308-9e2e-490ca86c1f6c",
   "metadata": {},
   "outputs": [],
   "source": [
    "#Q1\n",
    "\n",
    "d = \"pradhuman\"\n",
    "lst = [1,2,3,\"astra\",8.3]\n",
    "flt = 4.0\n",
    "tup = (2,3,4,\"hello pw team\",3.2)"
   ]
  },
  {
   "cell_type": "raw",
   "id": "4f83ea2c-f83e-469f-a39b-e79d9c249a60",
   "metadata": {},
   "source": [
    "#Q2 \n",
    "\n",
    "1= string \n",
    "2 = string \n",
    "3 = list \n",
    "4 = float "
   ]
  },
  {
   "cell_type": "raw",
   "id": "95cf2da0-cd41-4885-8a83-ab0880e4704f",
   "metadata": {},
   "source": [
    "#Q3\n",
    "\n",
    "1 = / : used for divisionn of two numbers and return a floating point number . \n",
    "code  : \n",
    "    45/5\n",
    "\n",
    "2 = % : it is a modulo operator used to print only he remainder \n",
    "code : \n",
    "    49%3\n",
    "    \n",
    "3 = // : it is a floor division operator used for storing the result to nearest whole number \n",
    "code : \n",
    "    45//6\n",
    "    \n",
    "4 = ** : it is used to calculate the power of a number \n",
    "code :\n",
    "    3**2 will give 9 . "
   ]
  },
  {
   "cell_type": "code",
   "execution_count": 17,
   "id": "cb440caa-a88b-49dd-b060-b49d405667a7",
   "metadata": {},
   "outputs": [
    {
     "name": "stdout",
     "output_type": "stream",
     "text": [
      "1\n",
      "2\n",
      "3.0\n",
      "5.2\n",
      "hello\n",
      "prady\n",
      "s\n",
      "45\n",
      "a\n",
      "75\n"
     ]
    }
   ],
   "source": [
    "#Q4\n",
    "\n",
    "pd = [1,2,3.0,5.2,\"hello\",\"prady\",'s',45,'a',75]\n",
    "for j in pd : \n",
    "    print (j)"
   ]
  },
  {
   "cell_type": "code",
   "execution_count": 27,
   "id": "1fa3e95b-0dd4-4aff-8ade-94d3ea0c2796",
   "metadata": {},
   "outputs": [
    {
     "name": "stdin",
     "output_type": "stream",
     "text": [
      "Enter number 1 :  24\n",
      "Enter number 2 :  8\n"
     ]
    },
    {
     "name": "stdout",
     "output_type": "stream",
     "text": [
      "number is completely divisible by  8 , 3 times\n"
     ]
    }
   ],
   "source": [
    "#Q5\n",
    "\n",
    "num1 = int (input(\"Enter number 1 : \"))\n",
    "num2 = int (input (\"Enter number 2 : \"))\n",
    "count = 0 \n",
    "while num1>=num2 : \n",
    "    count +=1\n",
    "    num1 = num1- num2  \n",
    "if (num1== 0) : \n",
    "    print (\"number is completely divisible by \",num2,\",\",count,\"times\")\n",
    "else : \n",
    "    print (\"number is not completely divisible by \",num2)\n",
    "    \n",
    "    "
   ]
  },
  {
   "cell_type": "code",
   "execution_count": 23,
   "id": "076d3740-551a-432f-b228-54f3372edf39",
   "metadata": {},
   "outputs": [
    {
     "name": "stdout",
     "output_type": "stream",
     "text": [
      "1 is not divisible by 3 \n",
      "2 is not divisible by 3 \n",
      "3 is divisible by 3 \n",
      "4 is not divisible by 3 \n",
      "5 is not divisible by 3 \n",
      "6 is divisible by 3 \n",
      "7 is not divisible by 3 \n",
      "8 is not divisible by 3 \n",
      "9 is divisible by 3 \n",
      "10 is not divisible by 3 \n",
      "11 is not divisible by 3 \n",
      "12 is divisible by 3 \n",
      "13 is not divisible by 3 \n",
      "14 is not divisible by 3 \n",
      "15 is divisible by 3 \n",
      "16 is not divisible by 3 \n",
      "17 is not divisible by 3 \n",
      "18 is divisible by 3 \n",
      "19 is not divisible by 3 \n",
      "20 is not divisible by 3 \n",
      "21 is divisible by 3 \n",
      "22 is not divisible by 3 \n",
      "23 is not divisible by 3 \n",
      "24 is divisible by 3 \n",
      "25 is not divisible by 3 \n"
     ]
    }
   ],
   "source": [
    "#Q6\n",
    "\n",
    "lst = list(range (1,26))\n",
    "for i in lst : \n",
    "    if (i%3==0 ):\n",
    "        print (i,\"is divisible by 3 \")\n",
    "    else : \n",
    "        print (i,\"is not divisible by 3 \")"
   ]
  },
  {
   "cell_type": "raw",
   "id": "fb7555bf-41cf-4c05-83e2-233a94d4d397",
   "metadata": {},
   "source": [
    "#Q7\n",
    "\n",
    "mutable data are the data types which can be changed or whose value can be modified after the declaration of a data type \n",
    "eg  list , dictionaries . \n",
    "where as a immutable data types are the data types whose value cant be modified after the variable has been declared \n",
    "eg tuples . "
   ]
  }
 ],
 "metadata": {
  "kernelspec": {
   "display_name": "Python 3 (ipykernel)",
   "language": "python",
   "name": "python3"
  },
  "language_info": {
   "codemirror_mode": {
    "name": "ipython",
    "version": 3
   },
   "file_extension": ".py",
   "mimetype": "text/x-python",
   "name": "python",
   "nbconvert_exporter": "python",
   "pygments_lexer": "ipython3",
   "version": "3.10.8"
  }
 },
 "nbformat": 4,
 "nbformat_minor": 5
}
